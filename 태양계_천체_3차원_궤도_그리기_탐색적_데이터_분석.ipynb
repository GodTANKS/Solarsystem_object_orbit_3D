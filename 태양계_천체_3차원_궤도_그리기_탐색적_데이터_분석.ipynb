{
  "nbformat": 4,
  "nbformat_minor": 0,
  "metadata": {
    "colab": {
      "provenance": [],
      "authorship_tag": "ABX9TyPD+8UKgEr96SgFhaL8UyLL",
      "include_colab_link": true
    },
    "kernelspec": {
      "name": "python3",
      "display_name": "Python 3"
    },
    "language_info": {
      "name": "python"
    }
  },
  "cells": [
    {
      "cell_type": "markdown",
      "metadata": {
        "id": "view-in-github",
        "colab_type": "text"
      },
      "source": [
        "<a href=\"https://colab.research.google.com/github/GodTANKS/Solarsystem_object_orbit_3D/blob/main/%ED%83%9C%EC%96%91%EA%B3%84_%EC%B2%9C%EC%B2%B4_3%EC%B0%A8%EC%9B%90_%EA%B6%A4%EB%8F%84_%EA%B7%B8%EB%A6%AC%EA%B8%B0_%ED%83%90%EC%83%89%EC%A0%81_%EB%8D%B0%EC%9D%B4%ED%84%B0_%EB%B6%84%EC%84%9D.ipynb\" target=\"_parent\"><img src=\"https://colab.research.google.com/assets/colab-badge.svg\" alt=\"Open In Colab\"/></a>"
      ]
    },
    {
      "cell_type": "code",
      "execution_count": null,
      "metadata": {
        "id": "AZ6vNPFggeIR"
      },
      "outputs": [],
      "source": [
        "from google.colab import files # 코랩(colab)으로 파일 불러오기\n",
        "import pandas as pd # 데이터 처리 패키지\n",
        "import seaborn as sns # 데이터 시각화(그래프 표현) 패키지"
      ]
    },
    {
      "cell_type": "code",
      "source": [
        "uploaded = files.upload() # 파일 업로드하기"
      ],
      "metadata": {
        "id": "JiKiB1KDgl95"
      },
      "execution_count": null,
      "outputs": []
    },
    {
      "cell_type": "code",
      "source": [
        "df = pd.read_csv('solarsystem_sbdb_planet_dwarfplanet_asteroid(pha, neo, mainbelt)_comet_part(1252).csv')"
      ],
      "metadata": {
        "id": "2ymca0T3e8BS"
      },
      "execution_count": null,
      "outputs": []
    },
    {
      "cell_type": "code",
      "source": [
        "display(df)"
      ],
      "metadata": {
        "id": "axadC81JfBL2"
      },
      "execution_count": null,
      "outputs": []
    },
    {
      "cell_type": "code",
      "source": [
        "print(df.info())"
      ],
      "metadata": {
        "id": "5Z7pw7LjfCUk"
      },
      "execution_count": null,
      "outputs": []
    },
    {
      "cell_type": "code",
      "source": [
        "print(df.describe())"
      ],
      "metadata": {
        "id": "1V3r33befKBY"
      },
      "execution_count": null,
      "outputs": []
    },
    {
      "cell_type": "code",
      "source": [
        "print(df['primary_type'].unique())\n",
        "print(df['detail_type1'].unique())\n",
        "print(df['detail_type2'].unique())"
      ],
      "metadata": {
        "id": "2kDOtlL-fNoo"
      },
      "execution_count": null,
      "outputs": []
    },
    {
      "cell_type": "code",
      "source": [
        "print(df.groupby(['primary_type'])['primary_type'].count())\n",
        "print('----------------------------------')\n",
        "print(df.groupby(['detail_type1'])['detail_type1'].count())\n",
        "print('----------------------------------')\n",
        "print(df.groupby(['detail_type2'])['detail_type2'].count())"
      ],
      "metadata": {
        "id": "MzmJTfc1fk2B"
      },
      "execution_count": null,
      "outputs": []
    },
    {
      "cell_type": "code",
      "source": [
        "df_p = df[ df['primary_type'] == 'Planet' ]\n",
        "display('행성', df_p)\n",
        "df_d = df[ df['primary_type'] == 'Dwarfplanet' ]\n",
        "display('왜소행성', df_d)\n",
        "df_a = df[ df['primary_type'] == 'Asteroid' ]\n",
        "display('소행성', df_a)\n",
        "df_c = df[ df['primary_type'] == 'Comet' ]\n",
        "display('혜성', df_c)\n",
        "\n",
        "# df_p_1 = df_p[ df_p['detail_type1'] == 'Terrestrial' ]\n",
        "# display('행성 지구형', df_p_1)\n",
        "# df_p_2 = df_p[ df_p['detail_type1'] == 'Jovian' ]\n",
        "# display('행성 목성형', df_p_2)\n",
        "\n",
        "# df_a_1 = df_a[ (df_a['detail_type1'] == 'NEO') | (df_a['detail_type1'] == 'PHA') ]\n",
        "# display('소행성 근지구(잠재적위험 포함)', df_a_1)\n",
        "# df_a_2 = df_a[ df_a['detail_type1'] == 'FEO' ]\n",
        "# display('소행성 소행성대', df_a_2)\n",
        "\n",
        "# df_c_1 = df_c[ df_c['detail_type2'] == 'Short-period' ]\n",
        "# display('혜성 단주기', df_c_1)\n",
        "# df_c_2 = df_c[ df_c['detail_type2'] == 'Long-period' ]\n",
        "# display('혜성 장주기', df_c_2)"
      ],
      "metadata": {
        "id": "peGOzNHrhxw6"
      },
      "execution_count": null,
      "outputs": []
    },
    {
      "cell_type": "code",
      "source": [
        "fig = plt.figure(figsize=(20,10))\n",
        "ax1 = fig.add_subplot(2,3,1)\n",
        "ax1 = sns.violinplot(x='primary_type', y='a', data=df)\n",
        "\n",
        "ax2 = fig.add_subplot(2,3,2)\n",
        "ax2 = sns.violinplot(x='primary_type', y='e', data=df)\n",
        "\n",
        "ax3 = fig.add_subplot(2,3,3)\n",
        "ax3 = sns.violinplot(x='primary_type', y='i', data=df)\n",
        "\n",
        "ax4 = fig.add_subplot(2,3,4)\n",
        "ax4 = sns.violinplot(x='primary_type', y='om', data=df)\n",
        "\n",
        "ax5 = fig.add_subplot(2,3,5)\n",
        "ax5 = sns.violinplot(x='primary_type', y='w', data=df)\n",
        "\n",
        "plt.show()"
      ],
      "metadata": {
        "id": "_znvm5QWj47Z"
      },
      "execution_count": null,
      "outputs": []
    },
    {
      "cell_type": "code",
      "source": [
        "fig = plt.figure(figsize=(20,10))\n",
        "ax1 = fig.add_subplot(2,3,1)\n",
        "ax1 = sns.violinplot(x='detail_type1', y='a', data=df_p)\n",
        "\n",
        "ax2 = fig.add_subplot(2,3,2)\n",
        "ax2 = sns.violinplot(x='detail_type1', y='e', data=df_p)\n",
        "\n",
        "ax3 = fig.add_subplot(2,3,3)\n",
        "ax3 = sns.violinplot(x='detail_type1', y='i', data=df_p)\n",
        "\n",
        "ax4 = fig.add_subplot(2,3,4)\n",
        "ax4 = sns.violinplot(x='detail_type1', y='om', data=df_p)\n",
        "\n",
        "ax5 = fig.add_subplot(2,3,5)\n",
        "ax5 = sns.violinplot(x='detail_type1', y='w', data=df_p)\n",
        "\n",
        "plt.show()"
      ],
      "metadata": {
        "id": "Fcqw6DAruEJJ"
      },
      "execution_count": null,
      "outputs": []
    },
    {
      "cell_type": "code",
      "source": [
        "fig = plt.figure(figsize=(20,10))\n",
        "ax1 = fig.add_subplot(2,3,1)\n",
        "ax1 = sns.violinplot(x='detail_type2', y='a', data=df_a)\n",
        "\n",
        "ax2 = fig.add_subplot(2,3,2)\n",
        "ax2 = sns.violinplot(x='detail_type2', y='e', data=df_a)\n",
        "\n",
        "ax3 = fig.add_subplot(2,3,3)\n",
        "ax3 = sns.violinplot(x='detail_type2', y='i', data=df_a)\n",
        "\n",
        "ax4 = fig.add_subplot(2,3,4)\n",
        "ax4 = sns.violinplot(x='detail_type2', y='om', data=df_a)\n",
        "\n",
        "ax5 = fig.add_subplot(2,3,5)\n",
        "ax5 = sns.violinplot(x='detail_type2', y='w', data=df_a)\n",
        "\n",
        "plt.show()\n",
        "plt.savefig('detail_type2_df_a(1137).png')"
      ],
      "metadata": {
        "id": "ZvMTczYIp7_R"
      },
      "execution_count": null,
      "outputs": []
    },
    {
      "cell_type": "code",
      "source": [
        "fig = plt.figure(figsize=(20,10))\n",
        "ax1 = fig.add_subplot(2,3,1)\n",
        "ax1 = sns.violinplot(x='detail_type2', y='a', data=df_c)\n",
        "\n",
        "ax2 = fig.add_subplot(2,3,2)\n",
        "ax2 = sns.violinplot(x='detail_type2', y='e', data=df_c)\n",
        "\n",
        "ax3 = fig.add_subplot(2,3,3)\n",
        "ax3 = sns.violinplot(x='detail_type2', y='i', data=df_c)\n",
        "\n",
        "ax4 = fig.add_subplot(2,3,4)\n",
        "ax4 = sns.violinplot(x='detail_type2', y='om', data=df_c)\n",
        "\n",
        "ax5 = fig.add_subplot(2,3,5)\n",
        "ax5 = sns.violinplot(x='detail_type2', y='w', data=df_c)\n",
        "\n",
        "plt.show()\n",
        "plt.savefig('detail_type2_df_c(102).png')"
      ],
      "metadata": {
        "id": "yoI2eqTXuQKa"
      },
      "execution_count": null,
      "outputs": []
    }
  ]
}